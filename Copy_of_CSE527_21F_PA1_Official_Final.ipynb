{
  "nbformat": 4,
  "nbformat_minor": 0,
  "metadata": {
    "colab": {
      "name": "Copy of CSE527_21F_PA1_Official_Final.ipynb",
      "provenance": [],
      "collapsed_sections": [],
      "include_colab_link": true
    },
    "kernelspec": {
      "name": "python3",
      "display_name": "Python 3"
    },
    "language_info": {
      "name": "python"
    }
  },
  "cells": [
    {
      "cell_type": "markdown",
      "metadata": {
        "id": "view-in-github",
        "colab_type": "text"
      },
      "source": [
        "<a href=\"https://colab.research.google.com/github/dead-pool-kit/CV_DoG_SeamCarving/blob/master/Copy_of_CSE527_21F_PA1_Official_Final.ipynb\" target=\"_parent\"><img src=\"https://colab.research.google.com/assets/colab-badge.svg\" alt=\"Open In Colab\"/></a>"
      ]
    },
    {
      "cell_type": "markdown",
      "metadata": {
        "id": "25Fjrnm5P0U-"
      },
      "source": [
        "# CSE527 Programming Assignment 1\n",
        "**Due date: September 22nd 2021**\n",
        "\n",
        "---\n",
        "In this semester, we will use Google Colab for the assignments, which allows us to utilize resources that some of us might not have in their local machines such as GPUs. You will need to use your **Stony Brook (*.stonybrook.edu)** account for coding and Google Drive to save your results.\n",
        "\n",
        "## Google Colab Tutorial\n",
        "---\n",
        "Go to https://colab.research.google.com/notebooks/, you will see a tutorial named \"Welcome to Colaboratory\" file, where you can learn the basics of using google colab.\n",
        "\n",
        "Settings used for assignments: ***Edit -> Notebook Settings -> Runtime Type (Python 3)***.\n",
        "\n",
        "\n",
        "## Local Machine Prerequisites\n",
        "---\n",
        "Since we are using Google Colab, all the code is run on the server environment where lots of libraries or packages have already been installed. In case of missing \n",
        " libraries or if you want to install them in your local machine, below are the links for installation.\n",
        "* **Install Python 3.6**: https://www.python.org/downloads/ or use Anaconda (a Python distribution) at https://docs.continuum.io/anaconda/install/. Below are some materials and tutorials which you may find useful for learning Python if you are new to Python.\n",
        "  - https://docs.python.org/3.6/tutorial/index.html\n",
        "  - https://www.learnpython.org/\n",
        "  - http://docs.opencv.org/3.0-beta/doc/py_tutorials/py_tutorials.html\n",
        "  - http://www.scipy-lectures.org/advanced/image_processing/index.html\n",
        "\n",
        "\n",
        "* **Install Python packages**: install Python packages: `numpy`, `matplotlib`, `opencv-python` using pip, for example:\n",
        "```\n",
        "pip install numpy matplotlib opencv-python\n",
        "``` \n",
        "\tNote that when using “pip install”, make sure that the version you are using is python3. Below are some commands to check which python version it uses in you machine. You can pick one to execute:\n",
        "  \n",
        "```  \n",
        "    pip show pip\n",
        "    pip --version\n",
        "    pip -V\n",
        "```\n",
        "\n",
        "Incase of wrong version, use pip3 for python3 explictly.\n",
        "\n",
        "* **Install Jupyter Notebook**: follow the instructions at http://jupyter.org/install.html to install Jupyter Notebook and familiarize yourself  with it. *After you have installed Python and Jupyter Notebook, please open the notebook file 'HW1.ipynb' with your Jupyter Notebook and do your homework there.*\n",
        "\n",
        "\n",
        "## Example\n",
        "---\n",
        "Please read through the following examples where we apply image thresholding to an image. This example is desinged to help you get familiar with the basics of Python and routines of OpenCV. This part is for your exercises only, you do not need to submit anything from this part."
      ]
    },
    {
      "cell_type": "code",
      "metadata": {
        "id": "7X5mRuDqqKvm"
      },
      "source": [
        "import sys\n",
        "import os\n",
        "import cv2\n",
        "import numpy as np\n",
        "import matplotlib.pyplot as plt\n",
        "from scipy import ndimage, misc\n",
        "from IPython.display import display, Image\n",
        "from mpl_toolkits.mplot3d import Axes3D\n",
        "from matplotlib import cm"
      ],
      "execution_count": null,
      "outputs": []
    },
    {
      "cell_type": "code",
      "metadata": {
        "id": "V8_oXxuKqNws",
        "colab": {
          "base_uri": "https://localhost:8080/"
        },
        "outputId": "31aa24b8-fc88-4b54-b782-f806d4040fb0"
      },
      "source": [
        "# Mount your google drive where you've saved your assignment folder\n",
        "from google.colab import drive\n",
        "drive.mount('/content/gdrive')"
      ],
      "execution_count": null,
      "outputs": [
        {
          "output_type": "stream",
          "name": "stdout",
          "text": [
            "Mounted at /content/gdrive\n"
          ]
        }
      ]
    },
    {
      "cell_type": "code",
      "metadata": {
        "id": "a0mzjuErqPd_",
        "colab": {
          "base_uri": "https://localhost:8080/"
        },
        "outputId": "cf5d12af-35c4-441f-e029-43856b84b307"
      },
      "source": [
        "# The following path has to be modified as your working directory\n",
        "%cd '/content/gdrive/MyDrive/Classroom/CV/HW1'"
      ],
      "execution_count": null,
      "outputs": [
        {
          "output_type": "stream",
          "name": "stdout",
          "text": [
            "/content/gdrive/MyDrive/Classroom/CV/HW1\n"
          ]
        }
      ]
    },
    {
      "cell_type": "code",
      "metadata": {
        "id": "HPUmsbERP0VB",
        "colab": {
          "base_uri": "https://localhost:8080/",
          "height": 293
        },
        "outputId": "c7b65504-8415-48c5-c3d1-af958c3e72dc"
      },
      "source": [
        "# function for image thresholding\n",
        "def imThreshold(img, threshold, maxVal):\n",
        "    assert len(img.shape) == 2 # input image has to be gray\n",
        "    \n",
        "    height, width = img.shape\n",
        "    bi_img = np.zeros((height, width), dtype=np.uint8)\n",
        "    for x in range(height):\n",
        "        for y in range(width):\n",
        "            if img.item(x, y) > threshold:\n",
        "                bi_img.itemset((x, y), maxVal)\n",
        "                \n",
        "    return bi_img\n",
        "\n",
        "# read the image for local directory (same with this .ipynb) \n",
        "\n",
        "#cv reads image in BGR values not RGB!\n",
        "img = cv2.imread('IloveCV.png')\n",
        "\n",
        "# convert a color image to gray\n",
        "img_gray = cv2.cvtColor(img, cv2.COLOR_BGR2GRAY)\n",
        "\n",
        "# image thresholding using global tresholder\n",
        "img_bi = imThreshold(img_gray, 127, 255)\n",
        "\n",
        "# Be sure to convert the color space of the image from\n",
        "# BGR (Opencv) to RGB (Matplotlib) before you show a \n",
        "# color image read from OpenCV\n",
        "plt.figure(figsize=(15, 5)) #creates a new figure of size w*h in inches\n",
        "\n",
        "#creates a subplot or array of images/figures of size row*col, \n",
        "#starting from top left and 3rd arg is index start from 1.\n",
        "plt.subplot(1, 3, 1) \n",
        "\n",
        "#converted image from BGR to RGB to be read be used for plotting\n",
        "plt.imshow(cv2.cvtColor(img, cv2.COLOR_BGR2RGB))\n",
        "plt.title('color image')\n",
        "plt.axis(\"on\")\n",
        "\n",
        "plt.subplot(1, 3, 2)\n",
        "plt.imshow(img_gray, 'gray')\n",
        "plt.title('gray image')\n",
        "plt.axis(\"off\")\n",
        "\n",
        "plt.subplot(1, 3, 3)\n",
        "plt.imshow(img_bi, 'gray')\n",
        "plt.title('binarized image')\n",
        "plt.axis(\"off\")\n",
        "\n",
        "plt.show()"
      ],
      "execution_count": null,
      "outputs": [
        {
          "output_type": "display_data",
          "data": {
            "image/png": "[encoded data removed]",
            "text/plain": [
              "<Figure size 1080x360 with 3 Axes>"
            ]
          },
          "metadata": {
            "needs_background": "light"
          }
        }
      ]
    },
    {
      "cell_type": "markdown",
      "metadata": {
        "id": "Tvb0cYd-P0VC"
      },
      "source": [
        "## Description\n",
        "---\n",
        "There are five basic image processing problems in total with specific instructions for each of them. Be sure to read **Submission Guidelines** below. They are important."
      ]
    },
    {
      "cell_type": "markdown",
      "metadata": {
        "id": "6SqdlGLyP0VD"
      },
      "source": [
        "## Problems\n",
        "---"
      ]
    },
    {
      "cell_type": "markdown",
      "metadata": {
        "id": "IJDMfNkqP0VD"
      },
      "source": [
        "**Problem 1.a Gaussian filter {15 pts}:** \n",
        "\n",
        "  (a) Write a function that takes two arguments, a width parameter and a sigma parameter, and returns a 2D array containing a Gaussian kernel of the desired dimension and variance. The peak of the Gaussian should be in the center of the array. Make sure to normalize the kernel such that the sum of all the elements in the array is 1. Use this function and the OpenCV’s `filter2D` routine to convolve the image and noisy image arrays with a 5x5 Gaussian kernel of sigma=1 and a 11x11 Gaussian kernel of sigma=2. There will be four output images from this problem, namely, image convolved with 5x5, and 11x11, noisy image convolved with 5x5, and 11x11. \n",
        "\n",
        "  (b) Write a function that takes an image and its noisy version, and return the Peak Signal-to-Noise Ratio (PSNR) value. Refer to https://en.wikipedia.org/wiki/Peak_signal-to-noise_ratio for its mathematical form. Pay attention that you might need to do convertion between different data types.\n",
        "\n",
        "  Once you fill in and run the codes, the outputs will be saved under `Results` folder. Also images will be displayed in the notebook with PSNR marked in the titles. Please only fill in the missing part as indicated by `##########--WRITE YOUR CODE HERE--##########` and do not modify other parts. The grading for this question will be based on the ground-truth PSNR and your results.\n",
        "\n",
        "  Lena image is credit to https://www.ece.rice.edu/~wakin/images/."
      ]
    },
    {
      "cell_type": "code",
      "metadata": {
        "id": "PtUHVV9nP0VE",
        "scrolled": false
      },
      "source": [
        "def genGaussianKernel(width, sigma):    \n",
        "    ##########--WRITE YOUR CODE HERE--##########\n",
        "\n",
        "\n",
        "\n",
        "\n",
        "\n",
        "    ##########-------END OF CODE-------##########\n",
        "    return kernel_2d\n",
        "\n",
        "def PSNR(img, img_noise):\n",
        "    ##########--WRITE YOUR CODE HERE--##########\n",
        "\n",
        "\n",
        "\n",
        "\n",
        "    \n",
        "    ##########-------END OF CODE-------##########\n",
        "    return PSNR\n",
        " \n",
        "# Function to generate image with Gaussian noise\n",
        "def addGaussianNoise(img, mean, std, seed=0):\n",
        "    # suppose the input image is 2D gray image\n",
        "    np.random.seed(seed)\n",
        "    img_noise = img.astype(np.float32)/255.\n",
        "    noise = np.random.normal(mean, std, img.shape)\n",
        "    img_noise = img_noise + noise\n",
        "    img_noise = np.clip(img_noise, 0., 1.)\n",
        "    img_noise = (img_noise*255).astype(np.uint8)\n",
        "    return img_noise\n",
        "\n",
        "# Load images\n",
        "img = cv2.imread('SourceImages/lena512.bmp', 0)\n",
        "\n",
        "# Add Gaussian Noise\n",
        "img_gnoise = addGaussianNoise(img, 0, 0.1)\n",
        "PSNR_img_gnoise = PSNR(img, img_gnoise)\n",
        "# Generate Gaussian kernels\n",
        "kernel_1 = genGaussianKernel(5, 1)  # 5x5 kernel of sigma=1\n",
        "kernel_2 = genGaussianKernel(11, 2)  # 11x11 kernel of sigma=2\n",
        "# Convolve kernel with (noisy) image\n",
        "img_kernel1 = cv2.filter2D(img, -1, kernel_1)\n",
        "img_kernel2 = cv2.filter2D(img, -1, kernel_2)\n",
        "img_gnoise_kernel1 = cv2.filter2D(img_gnoise, -1, kernel_1)\n",
        "img_gnoise_kernel2 = cv2.filter2D(img_gnoise, -1, kernel_2)\n",
        "PSNR_img_gnoise_kernel1 = PSNR(img, img_gnoise_kernel1)\n",
        "PSNR_img_gnoise_kernel2 = PSNR(img, img_gnoise_kernel2)\n",
        "# Write result images\n",
        "if not os.path.exists(\"Results\"):\n",
        "  os.makedirs(\"Results\")\n",
        "cv2.imwrite(\"Results/P1_01.jpg\", img_kernel1)\n",
        "cv2.imwrite(\"Results/P1_02.jpg\", img_kernel2)\n",
        "cv2.imwrite(\"Results/P1_03.jpg\", img_gnoise_kernel1)\n",
        "cv2.imwrite(\"Results/P1_04.jpg\", img_gnoise_kernel2)\n",
        "\n",
        "# Plot results\n",
        "plt.figure(figsize = (15, 5))\n",
        "plt.subplot(1, 3, 1)\n",
        "plt.imshow(img, 'gray')\n",
        "plt.title('Image: original')\n",
        "plt.axis(\"off\")\n",
        "\n",
        "plt.subplot(1, 3, 2)\n",
        "plt.imshow(img_kernel1, 'gray')\n",
        "plt.title('Image: 5x5 kernel of sigma=1')\n",
        "plt.axis(\"off\")\n",
        "\n",
        "plt.subplot(1, 3, 3)\n",
        "plt.imshow(img_kernel2, 'gray')\n",
        "plt.title('Image: 11x11 kernel of sigma=2')\n",
        "plt.axis(\"off\")\n",
        "\n",
        "plt.figure(figsize = (15, 5))\n",
        "plt.subplot(1, 3, 1)\n",
        "plt.imshow(img_gnoise, 'gray')\n",
        "plt.title('Noisy image: original\\n PSNR:{0:.2f}'.format(PSNR_img_gnoise))\n",
        "plt.axis(\"off\")\n",
        "\n",
        "plt.subplot(1, 3, 2)\n",
        "plt.imshow(img_gnoise_kernel1, 'gray')\n",
        "plt.title('Noisy image: 5x5 kernel of sigma=1\\n PSNR:{0:.2f}'\n",
        "                        .format(PSNR_img_gnoise_kernel1))\n",
        "plt.axis(\"off\")\n",
        "\n",
        "plt.subplot(1, 3, 3)\n",
        "plt.imshow(img_gnoise_kernel2, 'gray')\n",
        "plt.title('Noisy image: 11x11 kernel of sigma=2\\n PSNR:{0:.2f}'\n",
        "                        .format(PSNR_img_gnoise_kernel2))\n",
        "plt.axis(\"off\")\n",
        "\n",
        "plt.show()\n"
      ],
      "execution_count": null,
      "outputs": []
    },
    {
      "cell_type": "markdown",
      "metadata": {
        "id": "ImUOhuywwR0R"
      },
      "source": [
        "**Problem 1.b Median filter {15 pts}:** \\\\\n",
        "(a) Write a function to generate an image with salt and pepper noise. The function takes three arguments, the input image, the probability that a pixel location has salt-pepper noise and a random seed for repitability. A simple implementation can be to select pixel locations with probability 'p' where noise occurs and then with equal probability set the pixel value at those location to be 0 or 255.(**Hint: Use np.random.uniform and np.random.choice**) \n",
        "\n",
        " (b) Write a function to implement a median filter. The function takes two arguments, an image and a window size (if window size is 'k', then a kxk window is used to determine the median pixel value at a location) and returns the output image. **Do not** use any inbuilt library (like scipy.ndimage_filter) to directly generate the result. (**Hint: Use cv2.copyMakeBorder to add borders**)  \n",
        "\n",
        " You need to generate two noisy images corrupted by salt-and-pepper noise with noise probability equals 0.1 and 0.2. And then use median filter of window size=5 to denoise the two noisy images. You also need to denoise them with Gaussian filters. Try different parameters of Gaussian filters to get as higher PSNR as possible. Fill in all the missing parts and do not modify others."
      ]
    },
    {
      "cell_type": "code",
      "metadata": {
        "id": "hzdxKzKbwTcs"
      },
      "source": [
        "# Function to generate image with salt and pepper noise\n",
        "def addSaltPepperNoise(img, prob = 0.1, seed=0):\n",
        "  # suppose the input image is 2D gray image\n",
        "  # with probability=prob each pixel is replaced with a pepper(0)\n",
        "  # or a salt(255) in equal chance\n",
        "  np.random.seed(seed)  \n",
        "  ##########--WRITE YOUR CODE HERE--##########\n",
        "\n",
        "\n",
        "\n",
        "\n",
        "\n",
        "  ##########-------END OF CODE-------##########\n",
        "  return img_noise\n",
        "  \n",
        "# Function to apply median filter (window size kxk) on the input image  \n",
        "def medianFilter(img, window_size = 5):\n",
        "  ##########--WRITE YOUR CODE HERE--##########\n",
        "\n",
        "\n",
        "\n",
        "\n",
        "\n",
        "  ##########-------END OF CODE-------##########\n",
        "  return img_filtered\n",
        "\n",
        "img_spnoise_p1 = addSaltPepperNoise(img)\n",
        "PSNR_img_spnoise_p1 = PSNR(img, img_spnoise_p1)\n",
        "\n",
        "img_spnoise_p1_MedianFilter = medianFilter(img_spnoise_p1)\n",
        "PSNR_img_spnoise_p1_MedianFilter = PSNR(img, img_spnoise_p1_MedianFilter)\n",
        "\n",
        "\n",
        "img_spnoise_p2 = addSaltPepperNoise(img, 0.2)\n",
        "PSNR_img_spnoise_p2 = PSNR(img, img_spnoise_p2)\n",
        "\n",
        "img_spnoise_p2_MedianFilter = medianFilter(img_spnoise_p2)\n",
        "PSNR_img_spnoise_p2_MedianFilter = PSNR(img, img_spnoise_p2_MedianFilter)\n",
        "\n",
        "# Generate Gaussian kernels\n",
        "kernel_1 = genGaussianKernel(5, 1)\n",
        "kernel_2 = genGaussianKernel(11, 3)\n",
        "\n",
        "# Convolve filters with image and noisy image\n",
        "img_spnoise_p1_GaussianFilter = cv2.filter2D(img_spnoise_p1, -1, kernel_1)\n",
        "PSNR_img_spnoise_p1_GaussianFilter = PSNR(img, img_spnoise_p1_GaussianFilter)\n",
        "\n",
        "img_spnoise_p2_GaussianFilter = cv2.filter2D(img_spnoise_p2, -1, kernel_2)\n",
        "PSNR_img_spnoise_p2_GaussianFilter = PSNR(img, img_spnoise_p2_GaussianFilter)\n",
        "\n",
        "cv2.imwrite(\"Results/P1_05.jpg\", img_spnoise_p1_MedianFilter)    \n",
        "cv2.imwrite(\"Results/P1_06.jpg\", img_spnoise_p1_GaussianFilter)    \n",
        "cv2.imwrite(\"Results/P1_07.jpg\", img_spnoise_p2_MedianFilter)    \n",
        "cv2.imwrite(\"Results/P1_08.jpg\", img_spnoise_p2_GaussianFilter)  \n",
        "\n",
        "# Plot results\n",
        "plt.figure(figsize = (15, 5))\n",
        "plt.subplot(1, 3, 1)\n",
        "plt.imshow(img, 'gray')\n",
        "plt.title('Image: original')\n",
        "plt.axis(\"off\")\n",
        "\n",
        "plt.figure(figsize = (15, 5))\n",
        "plt.subplot(1, 3, 1)\n",
        "plt.imshow(img_spnoise_p1, 'gray')\n",
        "plt.title('Noise image: salt and pepper (prob = 0.1)\\n PSNR:{0:.2f}'\n",
        "                .format(PSNR_img_spnoise_p1))\n",
        "plt.axis(\"off\")\n",
        "\n",
        "plt.subplot(1, 3, 2)\n",
        "plt.imshow(img_spnoise_p1_MedianFilter, 'gray')\n",
        "plt.title('Noise image: median filter (prob = 0.1)\\n PSNR:{0:.2f}'\n",
        "                .format(PSNR_img_spnoise_p1_MedianFilter))\n",
        "plt.axis(\"off\")\n",
        "\n",
        "plt.subplot(1, 3, 3)\n",
        "plt.imshow(img_spnoise_p1_GaussianFilter, 'gray')\n",
        "plt.title('Noise image: Gaussian filter (prob = 0.1)\\n PSNR:{0:.2f}'\n",
        "                .format(PSNR_img_spnoise_p1_GaussianFilter))\n",
        "plt.axis(\"off\")\n",
        "\n",
        "plt.figure(figsize = (15, 5))\n",
        "plt.subplot(1, 3, 1)\n",
        "plt.imshow(img_spnoise_p2, 'gray')\n",
        "plt.title('Noise image: salt and pepper (prob = 0.2)\\n PSNR:{0:.2f}'\n",
        "                .format(PSNR_img_spnoise_p2))\n",
        "plt.axis(\"off\")\n",
        "\n",
        "plt.subplot(1, 3, 2)\n",
        "plt.imshow(img_spnoise_p2_MedianFilter, 'gray')\n",
        "plt.title('Noise image: median filter (prob = 0.2)\\n PSNR:{0:.2f}'\n",
        "                .format(PSNR_img_spnoise_p2_MedianFilter))\n",
        "plt.axis(\"off\")\n",
        "\n",
        "plt.subplot(1, 3, 3)\n",
        "plt.imshow(img_spnoise_p2_GaussianFilter, 'gray')\n",
        "plt.title('Noise image: Gaussian filter (prob = 0.2)\\n PSNR:{0:.2f}'\n",
        "                  .format(PSNR_img_spnoise_p2_GaussianFilter))\n",
        "plt.axis(\"off\")\n",
        "\n",
        "plt.show()"
      ],
      "execution_count": null,
      "outputs": []
    },
    {
      "cell_type": "markdown",
      "metadata": {
        "id": "pGEilfBfP0VF"
      },
      "source": [
        "**Problem 2.a Separable filters {20 pts}:** The Gaussian kernel is separable, which means that convolution with a 2D Gaussian can be accomplished by convolving the image with two 1D Gaussians, one in the x direction and the other one in the y direction. Perform an 11x11 convolution with sigma = 3 from question 1 using this scheme. You can still use `filter2D` to convolve the images with each of the 1D kernels. Verify that you get the same results with what you did with 2D kernels by computing the difference image between the results from the two methods. This difference image should be close to black. Include your code and results in your colab Notebook file. There is no output image from this part. Be sure to display the result images in the notebook."
      ]
    },
    {
      "cell_type": "code",
      "metadata": {
        "id": "RpIrqRkC3cPN"
      },
      "source": [
        "def genGausKernel1D(length, sigma):\n",
        "    ##########--WRITE YOUR CODE HERE--########## \n",
        "\n",
        "\n",
        "\n",
        "\n",
        "    \n",
        "    ##########-------END OF CODE-------##########\n",
        "    return kernel_1d\n",
        "\n",
        "\n",
        "# Generate two 1d kernels here\n",
        "width = 11\n",
        "sigma = 3\n",
        "kernel_x = genGausKernel1D(width, sigma)\n",
        "kernel_y = np.transpose(genGausKernel1D(width, sigma))\n",
        "\n",
        "# Generate a 2d 11x11 kernel with sigma of 3 here as before\n",
        "kernel_2d = genGaussianKernel(width, sigma)\n",
        "\n",
        "# Convolve with img_gnoise\n",
        "img_gnoise_kernel1d_x = cv2.filter2D(img_spnoise_p2, -1, kernel_x) \n",
        "img_gnoise_kernel1d_xy = cv2.filter2D(img_gnoise_kernel1d_x, -1, kernel_y) \n",
        "img_gnoise_kernel2d = cv2.filter2D(img_spnoise_p2, -1, kernel_2d)\n",
        "\n",
        "# Plot results\n",
        "plt.figure(figsize=(10, 5))\n",
        "plt.subplot(1, 2, 1)\n",
        "plt.imshow(img_gnoise, 'gray')\n",
        "plt.title('Noise image: original')\n",
        "plt.axis(\"off\")\n",
        "\n",
        "plt.subplot(1, 2, 2)\n",
        "plt.imshow(img_gnoise_kernel1d_x, 'gray')\n",
        "plt.title('Noise image: Gaussian filter 1d (x)')\n",
        "plt.axis(\"off\")\n",
        "\n",
        "plt.figure(figsize=(10, 5))\n",
        "plt.subplot(1, 2, 1)\n",
        "plt.imshow(img_gnoise_kernel1d_xy, 'gray')\n",
        "plt.title('Noise image: Gaussian filter 1d (x->y)')\n",
        "plt.axis(\"off\")\n",
        "\n",
        "plt.subplot(1, 2, 2)\n",
        "plt.imshow(img_gnoise_kernel2d, 'gray')\n",
        "plt.title('Noise image: Gaussian filter 2d')\n",
        "plt.axis(\"off\")\n",
        "\n",
        "# Compute the difference array here\n",
        "img_diff =  np.abs((img_gnoise_kernel1d_xy.astype(np.float32)\n",
        "       -img_gnoise_kernel2d.astype(np.float32))).astype(np.uint8)\n",
        "\n",
        "plt.figure(figsize=(10, 5))\n",
        "plt.subplot(1, 2, 2)\n",
        "plt.imshow(img_diff, 'gray', vmin=0, vmax=255)\n",
        "plt.title('Difference image\\n Max abs difference={0:d}'\n",
        "                        .format(np.max(img_diff)))\n",
        "plt.axis(\"off\")\n",
        "plt.show()\n"
      ],
      "execution_count": null,
      "outputs": []
    },
    {
      "cell_type": "markdown",
      "metadata": {
        "id": "5dJIK-Yq0AnV"
      },
      "source": [
        "**Problem 2.b Floating point operations(FLOPs) comparison {10 pts}:** Please calculate the FLOPs needed for the two separable 1D kernels and the 2D kernel.(**Hint: Since the image shape doesn't change, the kernel will convolve with the image height * width times.**)  "
      ]
    },
    {
      "cell_type": "code",
      "metadata": {
        "id": "L0SPK4_A1MXB"
      },
      "source": [
        "def cal_1d_FLOPs(img, kernel):\n",
        "  FLOPs = 0\n",
        "##########--WRITE YOUR CODE HERE--##########\n",
        "  \n",
        "\n",
        "\n",
        "\n",
        "\n",
        "#########-------END OF CODE-------##########\n",
        "  return FLOPs\n",
        "\n",
        "def cal_2d_FLOPs(img, kernel):\n",
        "  FLOPs = 0\n",
        "##########--WRITE YOUR CODE HERE--##########\n",
        "  \n",
        "\n",
        "\n",
        "\n",
        "  \n",
        "#########-------END OF CODE-------##########\n",
        "  return FLOPs\n",
        "\n",
        "FLOPs_x = cal_1d_FLOPs(img_spnoise_p2, kernel_x)\n",
        "FLOPs_y = cal_1d_FLOPs(img_gnoise_kernel1d_x, kernel_y)\n",
        "FLOPs_1D = FLOPs_x + FLOPs_y\n",
        "print('1D Filter FLOPs:', FLOPs_1D)\n",
        "FLOPs_2D = cal_2d_FLOPs(img_spnoise_p2, kernel_2d)\n",
        "print('2D Filter FLOPs:', FLOPs_2D)"
      ],
      "execution_count": null,
      "outputs": []
    },
    {
      "cell_type": "markdown",
      "metadata": {
        "id": "FmFJMmVDP0VH"
      },
      "source": [
        "**Problem 3 Difference of Gaussians {20 pts}:** Difference of Gaussians (DoG) is a feature enhancement algorithm. You can obtain a DoG by subtracting a Gaussian filter of sigma=K\\*s from a Gaussian filter of sigma=s. In this question, we will use K=1.6 and sigma=2. Plot the DoG kernel using the `Matplotlib` function `plot`. Use the `Matplotlib` function `plot_surface` to generate a 3D plot of DoG. Include your code and results in your Colab Notebook file. Apply the filter to the noisy image generated in the previous question. "
      ]
    },
    {
      "cell_type": "code",
      "metadata": {
        "id": "j1kYYjPpP0VI"
      },
      "source": [
        "from mpl_toolkits.mplot3d import Axes3D\n",
        "##########--WRITE YOUR CODE HERE--##########\n",
        "\n",
        "# Create your Gaussian kernel\n",
        "Gaussian_kernel_1 = \n",
        "Gaussian_kernel_2 = \n",
        "\n",
        "# Create your Difference of Gaussian\n",
        "DoG = \n",
        "\n",
        "##########-------END OF CODE-------##########\n",
        "\n",
        "# Plot Gaussian and Laplacian\n",
        "fig = plt.figure(figsize=(15, 5))\n",
        "plt.subplot(1, 3, 1)\n",
        "plt.imshow(Gaussian_kernel_1, interpolation='none', cmap=cm.jet)\n",
        "plt.title('Gaussian kernel 1')\n",
        "plt.axis(\"off\")\n",
        "\n",
        "plt.subplot(1, 3, 2)\n",
        "plt.imshow(Gaussian_kernel_2, interpolation='none', cmap=cm.jet)\n",
        "plt.title('Gaussian kernel 2')\n",
        "plt.axis(\"off\")\n",
        "\n",
        "plt.subplot(1, 3, 3)\n",
        "plt.imshow(DoG, interpolation='none', cmap=cm.jet)\n",
        "plt.title('2D Difference of Gaussian')\n",
        "plt.axis(\"off\")\n",
        "\n",
        "# Plot the 3D figure of DoG\n",
        "##########--WRITE YOUR CODE HERE--##########\n",
        "\n",
        "\n",
        "\n",
        "\n",
        "\n",
        "##########-------END OF CODE-------##########\n",
        "\n",
        "img_gnoise_DoG = cv2.filter2D(img_gnoise, -1, DoG) \n",
        "\n",
        "# Plot results\n",
        "plt.figure(figsize=(15, 5))\n",
        "plt.subplot(1, 3, 1)\n",
        "plt.imshow(img_gnoise, 'gray')\n",
        "plt.title('Noise image: original')\n",
        "plt.axis(\"off\")\n",
        "\n",
        "plt.subplot(1, 3, 2)\n",
        "plt.imshow(img_gnoise_DoG, 'gray')\n",
        "plt.title('Noise image: filtered with DoG')\n",
        "plt.axis(\"off\")\n",
        "\n",
        "cv2.imwrite(\"Results/P3_01.jpg\", img_gnoise_DoG);\n"
      ],
      "execution_count": null,
      "outputs": []
    },
    {
      "cell_type": "markdown",
      "metadata": {
        "collapsed": true,
        "id": "ycLcLjf6P0VL"
      },
      "source": [
        "**Problem 4 Seam Carving {30 pts}:**  In this problem, you need to implement Seam Carving. More specifically, you need to do vertical seam removing. You can read this paper first: http://graphics.cs.cmu.edu/courses/15-463/2007_fall/hw/proj2/imret.pdf <br>\n",
        "\n",
        "You can implement this in the following way. <br>\n",
        "(1) First, implement the function to calculate the gradient. Here are some instructions: https://docs.opencv.org/4.5.1/d5/d0f/tutorial_py_gradients.html. You can use any filter you want to calculate the gradient(Sobel, Scharr, etc.). **{5pts}**<br>\n",
        "(2) Then you can implement the energy function. **{5pts}**<br>\n",
        "(3) Then you can implement the function to calculate the cumulative minimum energy.**{10 pts}**<br>\n",
        "(4) Finally, you can implement the function to find and remove one vertical seam.**{10 pts}**\n",
        "\n",
        "\n",
        "\n"
      ]
    },
    {
      "cell_type": "code",
      "metadata": {
        "id": "LYtfAWvk6NxL"
      },
      "source": [
        "import copy\n",
        "def cal_grad(image):\n",
        "\n",
        "  ##########--WRITE YOUR CODE HERE--##########\n",
        "\n",
        "  ##########-------END OF CODE-------##########\n",
        "\n",
        "  return grad\n",
        "\n",
        "def energy_func(image):\n",
        "\n",
        "  ##########--WRITE YOUR CODE HERE--##########\n",
        "\n",
        "  ##########-------END OF CODE-------##########\n",
        "\n",
        "  return energy\n",
        "\n",
        "def cal_cumulative_min_energy(energy):\n",
        "\n",
        "  ##########--WRITE YOUR CODE HERE--##########\n",
        "    \n",
        "  ##########-------END OF CODE-------##########\n",
        "\n",
        "  return cal_cumulative_min_map\n",
        "\n",
        "def delete_seam(cal_cumulative_min_map, image):\n",
        "  #This function is used to remove one signle seam\n",
        "  #You should return a new image\n",
        "\n",
        "  ##########--WRITE YOUR CODE HERE--##########\n",
        "\n",
        "  ##########-------END OF CODE-------##########\n",
        "\n",
        "  return new_image\n",
        "# Get energy\n",
        "img = cv2.imread('SourceImages/Seam_Carving_Sample.png')\n",
        "ori_img = copy.deepcopy(img)\n",
        "energy_map = energy_func(img)\n",
        "cumulative_min_energy = cal_cumulative_min_energy(energy_map)\n",
        "\n",
        "#Seam Carving\n",
        "#Total remove 100 seams\n",
        "#It may takes you about 10 minutes\n",
        "for i in range(100):\n",
        "  img = delete_seam(cumulative_min_energy, img)\n",
        "  new_energy_map = energy_func(img)\n",
        "  cumulative_min_energy = cal_cumulative_min_energy(new_energy_map)\n",
        "seam_carving_img = img\n",
        "\n",
        "\n",
        "# Plot results\n",
        "fig = plt.figure(figsize=(15, 5))\n",
        "plt.subplot(1, 3, 1)\n",
        "plt.imshow(cv2.cvtColor(ori_img, cv2.COLOR_BGR2RGB))\n",
        "plt.title('Image: original')\n",
        "plt.axis(\"off\")\n",
        "\n",
        "plt.subplot(1, 3, 2)\n",
        "plt.imshow(energy_map)\n",
        "plt.title('Image: energy Map')\n",
        "plt.axis(\"off\")\n",
        "\n",
        "plt.subplot(1, 3, 3)\n",
        "plt.imshow(cv2.cvtColor(seam_carving_img, cv2.COLOR_BGR2RGB))\n",
        "plt.title('Image: after seam carving')\n",
        "plt.axis(\"off\")\n",
        "\n",
        "# Write out results\n",
        "cv2.imwrite(\"Results/P4_01.jpg\", energy_map);\n",
        "cv2.imwrite(\"Results/P4_02.jpg\", seam_carving_img);\n"
      ],
      "execution_count": null,
      "outputs": []
    },
    {
      "cell_type": "markdown",
      "metadata": {
        "collapsed": true,
        "id": "pTRK9AGBP0VO"
      },
      "source": [
        "## Submission guidelines\n",
        "---\n",
        "Your need to submit a single zip file to Blackboard described as follow.\n",
        "\n",
        "Please generate a pdf file that includes a ***google shared link*** (explained in the next paragraph). This pdf file should be named as ***Surname_Givenname_SBUID_hw*\\*.pdf** (example: Jordan_Michael_111234567_hw1.pdf for this assignment).\n",
        "\n",
        "To generate the ***google shared link***, first create a folder named ***Surname_Givenname_SBUID_hw**** in your Google Drive with your Stony Brook account. The structure of the files in the folder should be exactly the same as the one you downloaded. For instance in this homework:\n",
        "\n",
        "```\n",
        "Surname_Givenname_SBUID_PA1\n",
        "        |---Results\n",
        "        |---SourceImages\n",
        "        |---CSE527-HW1-fall20.ipynb\n",
        "```\n",
        "Note that this folder should be in your Google Drive with your Stony Brook account.\n",
        "\n",
        "Then right click this folder, click ***Get shareable link***, in the People textfield, enter the TA's email: ***bjha@cs.stonybrook.edu***, ***li.wenchen@stonybrook.edu***, ***yifeng.huang@stonybrook.edu***. Make sure that TAs who have the link **can edit**, ***not just*** **can view**, and also **uncheck** the **Notify people** box.\n",
        "\n",
        "Note that in google colab, we will only grade the version of the code right before the timestamp of the submission made in blackboard. \n",
        "\n",
        "To submit to Blackboard, zip ***Surname_Givenname_SBUID_hw*\\*.pdf** and ***Surname_Givenname_SBUID_hw**** folder together and name your zip file as ***Surname_Givenname_SBUID_hw*\\*.zip**. \n",
        "\n",
        "The input and output paths are predefined and **DO NOT** change them, (we assume that 'Surname_Givenname_SBUID_hw1' is your working directory, and all the paths are relative to this directory).  The image read and write functions are already written for you. All you need to do is to fill in the blanks as indicated to generate proper outputs.\n",
        "\n",
        "\n",
        "-- DO NOT change the folder structure, please just fill in the blanks. <br>\n",
        "\n",
        "You are encouraged to post and answer questions on Edstem. Based on the amount of email that we have received in past years, there might be dealys in replying to personal emails. Please ask questions on Edstem and send emails only for personal issues.\n",
        "\n",
        "If you alter the folder structures, the grading of your homework will be significantly delayed and possibly penalized.\n",
        "\n",
        "Be aware that your code will undergo plagiarism check both vertically and horizontally. Please do your own work.\n",
        "\n",
        "Late submission penalty: <br>\n",
        "There will be a 10% penalty per day for late submission. However, you will have 4 days throughout the whole semester to submit late without penalty. Note that the grace period is calculated by days instead of hours. If you submit the homework one minute after the deadline, one late day will be counted. Likewise, if you submit one minute after the deadline, the 10% penaly will be imposed if not using the grace period.\n"
      ]
    }
  ]
}